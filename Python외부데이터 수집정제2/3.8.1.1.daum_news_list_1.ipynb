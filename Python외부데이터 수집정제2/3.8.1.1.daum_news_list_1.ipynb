{
 "cells": [
  {
   "cell_type": "code",
   "execution_count": 1,
   "id": "d9dc9c07",
   "metadata": {},
   "outputs": [],
   "source": [
    "import requests\n",
    "import lxml.html\n",
    "import pandas as pd\n",
    "import sqlite3\n",
    "from pandas.io import sql\n",
    "import os"
   ]
  },
  {
   "cell_type": "code",
   "execution_count": 2,
   "id": "cf2bc6ce",
   "metadata": {},
   "outputs": [],
   "source": [
    "REG_DATA = '20200819'"
   ]
  },
  {
   "cell_type": "code",
   "execution_count": 6,
   "id": "3ec67768",
   "metadata": {},
   "outputs": [
    {
     "name": "stdout",
     "output_type": "stream",
     "text": [
      "https://v.daum.net/v/20220719120334038 소비자단체·유통협회·국민은행 노조  '국민-신한 은행, 알뜰폰'  반대\n",
      "https://v.daum.net/v/20220719120104942 바이오플라스틱 소재 만드는 미생물 분리 성공..CCUS 개발 촉진\n",
      "https://v.daum.net/v/20220719120101933 유전학 아버지 멘델 탄생 200주년 기념우표 나온다\n",
      "https://v.daum.net/v/20220719120100930 과기부, 3D프린팅 이용 가이드라인 개정판 배포..안전센터 설치\n",
      "https://v.daum.net/v/20220719120056927 '그레고어 멘델 탄생 200주년' 기념우표 발행\n",
      "https://v.daum.net/v/20220719120038888 과기부, '3D프린팅 안전이용 가이드라인' 개정·배포\n",
      "https://v.daum.net/v/20220719120034880 \"3D 프린팅 안전하게\"..과기정통부, 안전 가이드라인 배포\n",
      "https://v.daum.net/v/20220719120019844 그레고어 멘델 탄생 200주년 기념우표 발행\n",
      "https://v.daum.net/v/20220719120008816 대한상의, ESG 경영 가이드북 발간\n",
      "https://v.daum.net/v/20220719115818758 리얼리티큐브드, 신작 삼국지2022 사전예약\n",
      "https://v.daum.net/v/20220719115815756 미국 온라인 뉴스 구독자 3분의 1 하루 만에 구독 '취소'\n",
      "https://v.daum.net/v/20220719115811754 번개장터, 시계 전문가 김한뫼 고문 영입\n",
      "https://v.daum.net/v/20220719115408609 라이징윙스, 모바일 게임 '캠핑 캣 패밀리' 사전 예약\n",
      "https://v.daum.net/v/20220719115346588 롯데정보통신, NFT 사업 본격화..헥슬란트와 맞손\n",
      "https://v.daum.net/v/20220719115105501 농촌 문제 해결하고 새 가치 만들 '창농'에 관심 모인다\n"
     ]
    }
   ],
   "source": [
    "response = requests.get('https://news.daum.net/breakingnews/digital?regData{}'.format(REG_DATA))\n",
    "root  =  lxml.html.fromstring(response.content)\n",
    "for li in root.xpath('//*[@id=\"mArticle\"]/div[3]/ul/li'):\n",
    "    a = li.xpath('div/strong/a')[0]\n",
    "    url = a.get('href')\n",
    "    print(url, a.text)\n",
    "\n"
   ]
  },
  {
   "cell_type": "code",
   "execution_count": null,
   "id": "a6514bcf",
   "metadata": {},
   "outputs": [],
   "source": []
  }
 ],
 "metadata": {
  "kernelspec": {
   "display_name": "Python 3 (ipykernel)",
   "language": "python",
   "name": "python3"
  },
  "language_info": {
   "codemirror_mode": {
    "name": "ipython",
    "version": 3
   },
   "file_extension": ".py",
   "mimetype": "text/x-python",
   "name": "python",
   "nbconvert_exporter": "python",
   "pygments_lexer": "ipython3",
   "version": "3.9.12"
  }
 },
 "nbformat": 4,
 "nbformat_minor": 5
}
