{
 "cells": [
  {
   "cell_type": "code",
   "execution_count": 1,
   "id": "2cbdf74f",
   "metadata": {},
   "outputs": [],
   "source": [
    "# pip install webdriver-manager"
   ]
  },
  {
   "cell_type": "code",
   "execution_count": 2,
   "id": "40de7ebd",
   "metadata": {},
   "outputs": [],
   "source": [
    "from selenium.webdriver import Chrome\n",
    "import time\n",
    "import sqlite3\n",
    "from pandas.io import sql\n",
    "import os\n",
    "import pandas as pd"
   ]
  },
  {
   "cell_type": "code",
   "execution_count": 3,
   "id": "41705b74",
   "metadata": {},
   "outputs": [
    {
     "name": "stdout",
     "output_type": "stream",
     "text": [
      "\n"
     ]
    }
   ],
   "source": [
    "from selenium import webdriver\n",
    "from selenium.webdriver.chrome.service import Service\n",
    "from webdriver_manager.chrome import ChromeDriverManager\n",
    "from selenium.webdriver.common.by import By\n",
    "\n",
    "\n",
    "options = webdriver.ChromeOptions()\n",
    "options.add_argument('--headless')\n",
    "options.add_argument('--disable-gpu')\n",
    "options.add_argument('--window-size=1280x1024')\n",
    "\n",
    "browser = webdriver.Chrome(service=Service(ChromeDriverManager().install()), options=options)"
   ]
  },
  {
   "cell_type": "code",
   "execution_count": 4,
   "id": "4d97919a",
   "metadata": {},
   "outputs": [],
   "source": [
    "browser.get('https://www.data.go.kr/')\n",
    "browser.implicitly_wait(5)"
   ]
  },
  {
   "cell_type": "code",
   "execution_count": 5,
   "id": "66e43a4e",
   "metadata": {
    "scrolled": true
   },
   "outputs": [],
   "source": [
    "# browser.find_element(by=By.XPATH, value ='//*[@id=\"header\"]/div/button').click()\n",
    "# browser.implicitly_wait(5)"
   ]
  },
  {
   "cell_type": "code",
   "execution_count": 6,
   "id": "2b849aaf",
   "metadata": {},
   "outputs": [],
   "source": [
    "browser.find_element(by=By.XPATH, value ='//*[@id=\"header\"]/div/div/div/div[2]/div/a[1]').click()\n",
    "browser.implicitly_wait(5)"
   ]
  },
  {
   "cell_type": "code",
   "execution_count": 7,
   "id": "32e09871",
   "metadata": {},
   "outputs": [],
   "source": [
    "browser.find_element(by=By.XPATH,value='//*[@id=\"mberId\"]').send_keys('sky152535')"
   ]
  },
  {
   "cell_type": "code",
   "execution_count": 8,
   "id": "6cbdba4a",
   "metadata": {},
   "outputs": [],
   "source": [
    "browser.find_element(by=By.XPATH, value = '//*[@id=\"pswrd\"]').send_keys('Nazi1945!')"
   ]
  },
  {
   "cell_type": "code",
   "execution_count": 9,
   "id": "92bfa50e",
   "metadata": {},
   "outputs": [],
   "source": [
    "browser.find_element(by=By.XPATH, value = '//*[@id=\"loginVo\"]/div[2]/div[2]/div[2]/div/div[1]/button').click()\n",
    "browser.implicitly_wait(5)"
   ]
  },
  {
   "cell_type": "code",
   "execution_count": 10,
   "id": "4793ab1c",
   "metadata": {},
   "outputs": [],
   "source": [
    "# browser.find_element(by=By.XPATH, value ='//*[@id=\"header\"]/div/button').click()\n",
    "# browser.implicitly_wait(5)"
   ]
  },
  {
   "cell_type": "code",
   "execution_count": 11,
   "id": "aa8871fe",
   "metadata": {},
   "outputs": [],
   "source": [
    "browser.find_element(by=By.XPATH, value = '//*[@id=\"M000400_pc\"]/a').click()"
   ]
  },
  {
   "cell_type": "code",
   "execution_count": 12,
   "id": "0945a0f6",
   "metadata": {},
   "outputs": [],
   "source": [
    "browser.find_element(by=By.XPATH, value = '//*[@id=\"M000402_pc\"]/a').click()"
   ]
  },
  {
   "cell_type": "code",
   "execution_count": 13,
   "id": "7ce0d2dc",
   "metadata": {},
   "outputs": [],
   "source": [
    "def db_save(ARTICLE_LIST):\n",
    "    with sqlite3.connect(os.path.join('.','sqliteDB')) as con: # sqlite DB 파일이 존재하지 않는 경우 파일생성\n",
    "        try:\n",
    "            ARTICLE_LIST.to_sql(name = 'ARTICLE_LIST', con = con, index = False, if_exists='append') \n",
    "            #if_exists : {'fail', 'replace', 'append'} default : fail\n",
    "        except Exception as e:\n",
    "            print(str(e))\n",
    "        print(len(ARTICLE_LIST), '건 저장완료..')"
   ]
  },
  {
   "cell_type": "code",
   "execution_count": 14,
   "id": "4a9d3028",
   "metadata": {
    "scrolled": true
   },
   "outputs": [
    {
     "name": "stdout",
     "output_type": "stream",
     "text": [
      "10 건 저장완료..\n"
     ]
    }
   ],
   "source": [
    "trs = browser.find_elements(by=By.XPATH, value = '//*[@id=\"searchVO\"]/div[5]/table/tbody/tr')\n",
    "df_list = []\n",
    "for tr in trs:\n",
    "    df = pd.DataFrame({\n",
    "            'NO': [tr.find_element(by=By.XPATH, value = 'td[1]').text],\n",
    "            'TITLE': [tr.find_element(by=By.XPATH, value = 'td[2]').text],\n",
    "            'IQRY': [tr.find_element(by=By.XPATH, value = 'td[3]').text],\n",
    "            'REGDT': [tr.find_element(by=By.XPATH, value = 'td[4]').text],\n",
    "            'CHGDT': [tr.find_element(by=By.XPATH, value = 'td[5]').text],\n",
    "        })\n",
    "    df_list.append(df)\n",
    "    \n",
    "    ARTICLE_LIST = pd.concat(df_list)\n",
    "db_save(ARTICLE_LIST)"
   ]
  },
  {
   "cell_type": "code",
   "execution_count": 15,
   "id": "2dc9ea39",
   "metadata": {},
   "outputs": [],
   "source": [
    "browser.find_element(by=By.XPATH, value = '//*[@id=\"searchVO\"]/div[5]/table/tbody/tr[1]/td[2]/a').click()\n",
    "browser.implicitly_wait(3)"
   ]
  },
  {
   "cell_type": "code",
   "execution_count": 16,
   "id": "d772a176",
   "metadata": {},
   "outputs": [],
   "source": [
    "browser.find_element(by=By.XPATH, value = '//*[@id=\"recsroomDetail\"]/div[2]/div[4]/div/a').click()\n",
    "time.sleep(10)"
   ]
  },
  {
   "cell_type": "code",
   "execution_count": 17,
   "id": "87db3ab4",
   "metadata": {},
   "outputs": [],
   "source": [
    "browser.quit()"
   ]
  },
  {
   "cell_type": "code",
   "execution_count": null,
   "id": "177f10f6",
   "metadata": {},
   "outputs": [],
   "source": []
  }
 ],
 "metadata": {
  "kernelspec": {
   "display_name": "Python 3 (ipykernel)",
   "language": "python",
   "name": "python3"
  },
  "language_info": {
   "codemirror_mode": {
    "name": "ipython",
    "version": 3
   },
   "file_extension": ".py",
   "mimetype": "text/x-python",
   "name": "python",
   "nbconvert_exporter": "python",
   "pygments_lexer": "ipython3",
   "version": "3.9.12"
  }
 },
 "nbformat": 4,
 "nbformat_minor": 5
}
